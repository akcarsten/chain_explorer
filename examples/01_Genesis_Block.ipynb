{
 "cells": [
  {
   "cell_type": "markdown",
   "metadata": {},
   "source": [
    "Quick introduction to the Blockchain and the Genesis block"
   ]
  },
  {
   "cell_type": "code",
   "execution_count": 28,
   "metadata": {},
   "outputs": [],
   "source": [
    "import sys\n",
    "sys.path.insert(1, '../blockexplorer/')\n",
    "\n",
    "import explorer as exp"
   ]
  },
  {
   "cell_type": "markdown",
   "metadata": {},
   "source": []
  },
  {
   "cell_type": "markdown",
   "metadata": {},
   "source": [
    "Few words on the `blockchain.info` API"
   ]
  },
  {
   "cell_type": "code",
   "execution_count": 35,
   "metadata": {},
   "outputs": [],
   "source": [
    "# Download the Genesis block\n",
    "raw_block = exp.get_by_block(0)"
   ]
  },
  {
   "cell_type": "markdown",
   "metadata": {},
   "source": [
    "Detailed look on the block structure"
   ]
  },
  {
   "cell_type": "code",
   "execution_count": 36,
   "metadata": {
    "scrolled": true
   },
   "outputs": [
    {
     "data": {
      "text/plain": [
       "{'hash': '000000000019d6689c085ae165831e934ff763ae46a2a6c172b3f1b60a8ce26f',\n",
       " 'ver': 1,\n",
       " 'prev_block': '0000000000000000000000000000000000000000000000000000000000000000',\n",
       " 'mrkl_root': '4a5e1e4baab89f3a32518a88c31bc87f618f76673e2cc77ab2127b7afdeda33b',\n",
       " 'time': 1231006505,\n",
       " 'bits': 486604799,\n",
       " 'next_block': ['00000000839a8e6886ab5951d76f411475428afc90947ee320161bbf18eb6048'],\n",
       " 'fee': 0,\n",
       " 'nonce': 2083236893,\n",
       " 'n_tx': 1,\n",
       " 'size': 285,\n",
       " 'block_index': 0,\n",
       " 'main_chain': True,\n",
       " 'height': 0,\n",
       " 'weight': 1140,\n",
       " 'tx': [{'hash': '4a5e1e4baab89f3a32518a88c31bc87f618f76673e2cc77ab2127b7afdeda33b',\n",
       "   'ver': 1,\n",
       "   'vin_sz': 1,\n",
       "   'vout_sz': 1,\n",
       "   'size': 204,\n",
       "   'weight': 816,\n",
       "   'fee': 0,\n",
       "   'relayed_by': '0.0.0.0',\n",
       "   'lock_time': 0,\n",
       "   'tx_index': 2098408272645986,\n",
       "   'double_spend': False,\n",
       "   'time': 1231006505,\n",
       "   'block_index': 0,\n",
       "   'block_height': 0,\n",
       "   'inputs': [{'sequence': 4294967295,\n",
       "     'witness': '',\n",
       "     'script': '04ffff001d0104455468652054696d65732030332f4a616e2f32303039204368616e63656c6c6f72206f6e206272696e6b206f66207365636f6e64206261696c6f757420666f722062616e6b73',\n",
       "     'index': 0,\n",
       "     'prev_out': None}],\n",
       "   'out': [{'type': 0,\n",
       "     'spent': False,\n",
       "     'value': 5000000000,\n",
       "     'spending_outpoints': [],\n",
       "     'n': 0,\n",
       "     'tx_index': 2098408272645986,\n",
       "     'script': '4104678afdb0fe5548271967f1a67130b7105cd6a828e03909a67962e0ea1f61deb649f6bc3f4cef38c4f35504e51ec112de5c384df7ba0b8d578a4c702b6bf11d5fac',\n",
       "     'addr': '1A1zP1eP5QGefi2DMPTfTL5SLmv7DivfNa'}]}]}"
      ]
     },
     "execution_count": 36,
     "metadata": {},
     "output_type": "execute_result"
    }
   ],
   "source": [
    "raw_block"
   ]
  },
  {
   "cell_type": "markdown",
   "metadata": {},
   "source": [
    "Convenience function to show the inputs"
   ]
  },
  {
   "cell_type": "code",
   "execution_count": 30,
   "metadata": {},
   "outputs": [
    {
     "name": "stdout",
     "output_type": "stream",
     "text": [
      "hash: 000000000019d6689c085ae165831e934ff763ae46a2a6c172b3f1b60a8ce26f\n",
      "ver: 1\n",
      "prev_block: 0000000000000000000000000000000000000000000000000000000000000000\n",
      "mrkl_root: 4a5e1e4baab89f3a32518a88c31bc87f618f76673e2cc77ab2127b7afdeda33b\n",
      "time: 1231006505\n",
      "bits: 486604799\n",
      "next_block: ['00000000839a8e6886ab5951d76f411475428afc90947ee320161bbf18eb6048']\n",
      "fee: 0\n",
      "nonce: 2083236893\n",
      "n_tx: 1\n",
      "size: 285\n",
      "block_index: 0\n",
      "main_chain: True\n",
      "height: 0\n",
      "weight: 1140\n"
     ]
    }
   ],
   "source": [
    "# Have a look at the Genesis information\n",
    "exp.show_block_info(raw_block)"
   ]
  },
  {
   "cell_type": "markdown",
   "metadata": {},
   "source": [
    "How to decode the messages"
   ]
  },
  {
   "cell_type": "code",
   "execution_count": 37,
   "metadata": {},
   "outputs": [
    {
     "ename": "SyntaxError",
     "evalue": "invalid syntax (<ipython-input-37-6297686c1bcf>, line 1)",
     "output_type": "error",
     "traceback": [
      "\u001b[1;36m  File \u001b[1;32m\"<ipython-input-37-6297686c1bcf>\"\u001b[1;36m, line \u001b[1;32m1\u001b[0m\n\u001b[1;33m    CODE EXAMPLE\u001b[0m\n\u001b[1;37m         ^\u001b[0m\n\u001b[1;31mSyntaxError\u001b[0m\u001b[1;31m:\u001b[0m invalid syntax\n"
     ]
    }
   ],
   "source": [
    "CODE EXAMPLE"
   ]
  },
  {
   "cell_type": "markdown",
   "metadata": {},
   "source": [
    "Convenience function"
   ]
  },
  {
   "cell_type": "code",
   "execution_count": 31,
   "metadata": {},
   "outputs": [],
   "source": [
    "# The hidden information is in the input message\n",
    "in_msg, out_msg = exp.collect_messages(raw_block)"
   ]
  },
  {
   "cell_type": "markdown",
   "metadata": {},
   "source": [
    "Let's decode the full message"
   ]
  },
  {
   "cell_type": "code",
   "execution_count": 38,
   "metadata": {},
   "outputs": [
    {
     "name": "stdout",
     "output_type": "stream",
     "text": [
      "[b'\\x04\\xff\\xff\\x00\\x1d\\x01\\x04EThe Times 03/Jan/2009 Chancellor on brink of second bailout for banks']\n"
     ]
    }
   ],
   "source": [
    "# The input message needs to be decoded from hexadecimal to ASCII to be readable\n",
    "decoded_msg = exp.decode_hex_message(in_msg)\n",
    "\n",
    "# Let's look at the full decoded message\n",
    "print(decoded_msg)"
   ]
  },
  {
   "cell_type": "markdown",
   "metadata": {},
   "source": [
    "Why we remove the first 8 bytes"
   ]
  },
  {
   "cell_type": "code",
   "execution_count": 33,
   "metadata": {},
   "outputs": [
    {
     "name": "stdout",
     "output_type": "stream",
     "text": [
      "b'The Times 03/Jan/2009 Chancellor on brink of second bailout for banks'\n"
     ]
    }
   ],
   "source": [
    "print(decoded_msg[0][8:])"
   ]
  },
  {
   "cell_type": "markdown",
   "metadata": {},
   "source": [
    "Wrapping up"
   ]
  },
  {
   "cell_type": "code",
   "execution_count": null,
   "metadata": {},
   "outputs": [],
   "source": []
  }
 ],
 "metadata": {
  "kernelspec": {
   "display_name": "Python 3",
   "language": "python",
   "name": "python3"
  },
  "language_info": {
   "codemirror_mode": {
    "name": "ipython",
    "version": 3
   },
   "file_extension": ".py",
   "mimetype": "text/x-python",
   "name": "python",
   "nbconvert_exporter": "python",
   "pygments_lexer": "ipython3",
   "version": "3.8.5"
  }
 },
 "nbformat": 4,
 "nbformat_minor": 4
}
