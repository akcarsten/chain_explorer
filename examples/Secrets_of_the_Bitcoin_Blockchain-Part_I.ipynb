{
 "cells": [
  {
   "cell_type": "markdown",
   "metadata": {},
   "source": [
    "# Exploring the Secrets of the Bitcoin Blockchain - Part I\n",
    "\n",
    "This notebook gives an introduction on how explore the Bitcoin blockchain using the \"Chain Explorer\" Python package. \n",
    "\n",
    "First we import all necessary packages including the Chain Explorer, before we have a look at the point where it all started the Genesis block. This block is also called Block 0 and marks the birth of Bitcoin and everything that followed afterwards including Alt Coins and other decentralized blockchain applications."
   ]
  },
  {
   "cell_type": "code",
   "execution_count": 47,
   "metadata": {},
   "outputs": [],
   "source": [
    "import sys\n",
    "import time\n",
    "from datetime import datetime\n",
    "import numpy as np\n",
    "import matplotlib.pyplot as plt\n",
    "\n",
    "from chainexplorer import explorer as exp"
   ]
  },
  {
   "cell_type": "markdown",
   "metadata": {},
   "source": [
    "If we want to understand the secrets of the Blockchain we need one thing first: Data.\n",
    "\n",
    "There are multiple resources on the internet that allow you to browse the Bitcoin Blockchain. You can also download the entire blockchain to your computer. But what we want here is an easy acces to Bitcoin blockchain data which allows us to process certain aspects directly in Python.\n",
    "\n",
    "Therefore, the Chain Explorer usese the https://www.blockchain.com/explorer API to selectively retrieve data from the blockchain. This takes away a lot of overhead from us and we can directly start with exploring what data and messages have been stored on the Bitcoin Blockchain.\n",
    "\n",
    "So let's get to it by downlaoding the Genesis Block."
   ]
  },
  {
   "cell_type": "code",
   "execution_count": 48,
   "metadata": {},
   "outputs": [],
   "source": [
    "# Download the Genesis block\n",
    "raw_block = exp.get_by_block(0)"
   ]
  },
  {
   "cell_type": "markdown",
   "metadata": {},
   "source": [
    "Now that we have the data of the Genesis Block available we can start exploring it. First let's check the block header which is part of a meta data section that we recieved from the https://www.blockchain.com/explorer API.\n",
    "\n",
    "The Chain Explorer has a convenience function to print that part as shown below."
   ]
  },
  {
   "cell_type": "code",
   "execution_count": 49,
   "metadata": {},
   "outputs": [
    {
     "name": "stdout",
     "output_type": "stream",
     "text": [
      "hash: 000000000019d6689c085ae165831e934ff763ae46a2a6c172b3f1b60a8ce26f\n",
      "ver: 1\n",
      "prev_block: 0000000000000000000000000000000000000000000000000000000000000000\n",
      "mrkl_root: 4a5e1e4baab89f3a32518a88c31bc87f618f76673e2cc77ab2127b7afdeda33b\n",
      "time: 1231006505\n",
      "bits: 486604799\n",
      "next_block: ['00000000839a8e6886ab5951d76f411475428afc90947ee320161bbf18eb6048']\n",
      "fee: 0\n",
      "nonce: 2083236893\n",
      "n_tx: 1\n",
      "size: 285\n",
      "block_index: 0\n",
      "main_chain: True\n",
      "height: 0\n",
      "weight: 1140\n"
     ]
    }
   ],
   "source": [
    "# Take a look at the Genesis information\n",
    "exp.show_block_info(raw_block)"
   ]
  },
  {
   "cell_type": "markdown",
   "metadata": {},
   "source": [
    "As mentioned above the information returned here goes beyond the actual block header which only contains the following parameters:\n",
    "\n",
    "|Parameter | API name | Description\n",
    "| --- | --- | --- |\n",
    "Version | ver | Protocol version\n",
    "Previous Block | prev_block | Previous block hash\n",
    "Merkle Root | mrkl_root | Merkle root hash\n",
    "Timestamp | time | Block creation time\n",
    "Difficulty target | bits | Difficulty for PoW\n",
    "Nonce | nonce | Counter for PoW\n",
    "\n",
    "Nevertheless the extra information is of course welcome. But let's get back to figuring out the Genesis block. First of all we can see that there was no previous block to the Genesis block, it's all zeros. This makes sense as it is the first block ever created. Also we see that the block index is 0 which is why the Genesis block is often also called block 0. We can further see a time parameter. This is the birthday of Bitcoin. But it is not readable for us. In order to get a date out of it we need to convert this timestamp to a datetime as follows. "
   ]
  },
  {
   "cell_type": "code",
   "execution_count": 50,
   "metadata": {},
   "outputs": [
    {
     "name": "stdout",
     "output_type": "stream",
     "text": [
      "\n",
      "Bitcoin was born at: 2009-01-03 19:15:05\n",
      "\n"
     ]
    }
   ],
   "source": [
    "b_day = datetime.fromtimestamp(raw_block['time'])\n",
    "\n",
    "print(f'\\nBitcoin was born at: {b_day}\\n')"
   ]
  },
  {
   "cell_type": "markdown",
   "metadata": {},
   "source": [
    "And here we go: `2009-01-03 19:15:05` the exact birth time of Bitcoin!"
   ]
  },
  {
   "cell_type": "markdown",
   "metadata": {},
   "source": [
    "# Every block is linked to only one previous block\n",
    "\n",
    "Now before we move on let's have a look at another fundamental property of the Blockchain. Every block is connected to only one previous block. There are no forks or parallel chains. Now that the https://www.blockchain.com/explorer API also returns us the hash of the previous and next block we can use this information to validate this principle.\n",
    "\n",
    "The code below downloads consecutive blocks starting with the Genesis block and confimring that the following block contains the hash of the current block. Let's have a look."
   ]
  },
  {
   "cell_type": "code",
   "execution_count": 51,
   "metadata": {},
   "outputs": [
    {
     "name": "stdout",
     "output_type": "stream",
     "text": [
      "No match between block 0 and -1\n",
      "Block hashes match between block 1 and block 0:\n",
      "Hash from block 0:    000000000019d6689c085ae165831e934ff763ae46a2a6c172b3f1b60a8ce26f\n",
      "Reference in block 1: 000000000019d6689c085ae165831e934ff763ae46a2a6c172b3f1b60a8ce26f\n",
      "\n",
      "Block hashes match between block 2 and block 1:\n",
      "Hash from block 1:    00000000839a8e6886ab5951d76f411475428afc90947ee320161bbf18eb6048\n",
      "Reference in block 2: 00000000839a8e6886ab5951d76f411475428afc90947ee320161bbf18eb6048\n",
      "\n",
      "Block hashes match between block 3 and block 2:\n",
      "Hash from block 2:    000000006a625f06636b8bb6ac7b960a8d03705d1ace08b1a19da3fdcc99ddbd\n",
      "Reference in block 3: 000000006a625f06636b8bb6ac7b960a8d03705d1ace08b1a19da3fdcc99ddbd\n",
      "\n",
      "Block hashes match between block 4 and block 3:\n",
      "Hash from block 3:    0000000082b5015589a3fdf2d4baff403e6f0be035a5d9742c1cae6295464449\n",
      "Reference in block 4: 0000000082b5015589a3fdf2d4baff403e6f0be035a5d9742c1cae6295464449\n",
      "\n",
      "Block hashes match between block 5 and block 4:\n",
      "Hash from block 4:    000000004ebadb55ee9096c9a2f8880e09da59c0d68b1c228da88e48844a1485\n",
      "Reference in block 5: 000000004ebadb55ee9096c9a2f8880e09da59c0d68b1c228da88e48844a1485\n",
      "\n",
      "Block hashes match between block 6 and block 5:\n",
      "Hash from block 5:    000000009b7262315dbf071787ad3656097b892abffd1f95a1a022f896f533fc\n",
      "Reference in block 6: 000000009b7262315dbf071787ad3656097b892abffd1f95a1a022f896f533fc\n",
      "\n",
      "Block hashes match between block 7 and block 6:\n",
      "Hash from block 6:    000000003031a0e73735690c5a1ff2a4be82553b2a12b776fbd3a215dc8f778d\n",
      "Reference in block 7: 000000003031a0e73735690c5a1ff2a4be82553b2a12b776fbd3a215dc8f778d\n",
      "\n",
      "Block hashes match between block 8 and block 7:\n",
      "Hash from block 7:    0000000071966c2b1d065fd446b1e485b2c9d9594acd2007ccbd5441cfc89444\n",
      "Reference in block 8: 0000000071966c2b1d065fd446b1e485b2c9d9594acd2007ccbd5441cfc89444\n",
      "\n",
      "Block hashes match between block 9 and block 8:\n",
      "Hash from block 8:    00000000408c48f847aa786c2268fc3e6ec2af68e8468a34a28c61b7f1de0dc6\n",
      "Reference in block 9: 00000000408c48f847aa786c2268fc3e6ec2af68e8468a34a28c61b7f1de0dc6\n",
      "\n"
     ]
    }
   ],
   "source": [
    "prev_hash = []\n",
    "for block in range(10):\n",
    "    raw_block = exp.get_by_block(block)\n",
    "\n",
    "    if raw_block['prev_block'] == prev_hash:\n",
    "        print(f'Block hashes match between block {block} and block {block - 1}:\\n'\n",
    "              f'Hash from block {block - 1}:    {prev_hash}\\n'\n",
    "              f'Reference in block {block}: {raw_block[\"prev_block\"]}\\n')\n",
    "    else:\n",
    "        print(f'No match between block {block} and {block - 1}')\n",
    "\n",
    "    prev_hash = raw_block['hash']\n",
    "    time.sleep(1)"
   ]
  },
  {
   "cell_type": "markdown",
   "metadata": {},
   "source": [
    "Looks like a match! As we can see from the above the hash of the previous block matches the record in the current block. You can go ahead and check differnt blocks. The result will alwys be the same as this is one of the core properties of the Bitcoin blockchain."
   ]
  },
  {
   "cell_type": "markdown",
   "metadata": {},
   "source": [
    "# Decoding input and output scripts\n",
    "\n",
    "Now in the beginning we briefly mentioned that there are secret messages and other stuff hidden on the blockchain. But how can we find this? Well already the very first block of the blockchain contains such an easter egg. So lets find it!\n",
    "\n",
    "So far we only looked at the block header. But the main objective of the Bitcoin protocol is to enable payments through  a peer-to-peer network which means there needs to be transaction data somewhere. Also here we can use a convenience function from the Chain Explorer to print out the transaction information in the Genesis block."
   ]
  },
  {
   "cell_type": "code",
   "execution_count": 52,
   "metadata": {},
   "outputs": [
    {
     "name": "stdout",
     "output_type": "stream",
     "text": [
      "\n",
      "\n",
      "Data of transaction: 0\n",
      "\n",
      "hash: 4a5e1e4baab89f3a32518a88c31bc87f618f76673e2cc77ab2127b7afdeda33b\n",
      "ver: 1\n",
      "vin_sz: 1\n",
      "vout_sz: 1\n",
      "size: 204\n",
      "weight: 816\n",
      "fee: 0\n",
      "relayed_by: 0.0.0.0\n",
      "lock_time: 0\n",
      "tx_index: 2098408272645986\n",
      "double_spend: False\n",
      "time: 1231006505\n",
      "block_index: 0\n",
      "block_height: 0\n",
      "inputs: [{'sequence': 4294967295, 'witness': '', 'script': '04ffff001d0104455468652054696d65732030332f4a616e2f32303039204368616e63656c6c6f72206f6e206272696e6b206f66207365636f6e64206261696c6f757420666f722062616e6b73', 'index': 0, 'prev_out': {'n': 4294967295, 'script': '', 'spending_outpoints': [{'n': 0, 'tx_index': 2098408272645986}], 'spent': True, 'tx_index': 0, 'type': 0, 'value': 0}}]\n",
      "out: [{'type': 0, 'spent': False, 'value': 5000000000, 'spending_outpoints': [], 'n': 0, 'tx_index': 2098408272645986, 'script': '4104678afdb0fe5548271967f1a67130b7105cd6a828e03909a67962e0ea1f61deb649f6bc3f4cef38c4f35504e51ec112de5c384df7ba0b8d578a4c702b6bf11d5fac', 'addr': '1A1zP1eP5QGefi2DMPTfTL5SLmv7DivfNa'}]\n"
     ]
    }
   ],
   "source": [
    "# Download the Genesis block again\n",
    "raw_block = exp.get_by_block(0)\n",
    "\n",
    "exp.show_transactions(raw_block)"
   ]
  },
  {
   "cell_type": "markdown",
   "metadata": {},
   "source": [
    "As we can see the Genesis Block contains only one transaction which is the coinbase transaction. Coinbase transactions are the transactions that generate new Bitcoins as a reward for the miner. Here the reward was 50 Bitcoins which were send to the wallet address `1A1zP1eP5QGefi2DMPTfTL5SLmv7DivfNa`. This is the first Bitcoin wallet of Satoshi Nakamoto that recieved the first Bitcoins ever mined. \n",
    "\n",
    "Interestingly these 50 Bitcoins are not included in the transaction data base which means they cannot be spent. We can see this by looking at the transaction data."
   ]
  },
  {
   "cell_type": "code",
   "execution_count": 53,
   "metadata": {},
   "outputs": [
    {
     "name": "stdout",
     "output_type": "stream",
     "text": [
      "\n",
      "Were the first 50 Bitcoins spent? False\n",
      "\n"
     ]
    }
   ],
   "source": [
    "is_spent = raw_block['tx'][0]['out'][0]['spent']\n",
    "\n",
    "print(f'\\nWere the first 50 Bitcoins spent? {is_spent}\\n')"
   ]
  },
  {
   "cell_type": "markdown",
   "metadata": {},
   "source": [
    "However, to this day people continue to send small amounts of Bitcoin to this address as a thank you to Satoshi. If you want to know the current amount in this original Satoshi wallet just run the following code:"
   ]
  },
  {
   "cell_type": "code",
   "execution_count": 54,
   "metadata": {},
   "outputs": [
    {
     "name": "stdout",
     "output_type": "stream",
     "text": [
      "\n",
      "The Satoshi Nakamoto wallet currently contains 68.56555938 Bitcoins.\n",
      "\n"
     ]
    }
   ],
   "source": [
    "raw_address = exp.get_multi_address('1A1zP1eP5QGefi2DMPTfTL5SLmv7DivfNa')\n",
    "balance = raw_address['wallet']['final_balance'] / 10**8\n",
    "\n",
    "print(f'\\nThe Satoshi Nakamoto wallet currently contains {balance} Bitcoins.\\n')"
   ]
  },
  {
   "cell_type": "markdown",
   "metadata": {},
   "source": [
    "Alright back to our original objective - finding a secret message in the Genesis block. Now that we looked at both the block header and the transactions were is the best spot to hide information. Most of the parameters seem either pre-determined by the Bitcoin protocol or too small to contain much information. The only two fields that hold longer strings of information are the input and output scripts in the transaction part. So lets have a closer look. We can extract these scripts easily through another convenience function from the raw block data as follows."
   ]
  },
  {
   "cell_type": "code",
   "execution_count": 55,
   "metadata": {},
   "outputs": [
    {
     "name": "stdout",
     "output_type": "stream",
     "text": [
      "\n",
      "Input script:\n",
      " 04ffff001d0104455468652054696d65732030332f4a616e2f32303039204368616e63656c6c6f72206f6e206272696e6b206f66207365636f6e64206261696c6f757420666f722062616e6b73\n",
      "\n",
      "Output script:\n",
      " 4104678afdb0fe5548271967f1a67130b7105cd6a828e03909a67962e0ea1f61deb649f6bc3f4cef38c4f35504e51ec112de5c384df7ba0b8d578a4c702b6bf11d5fac\n",
      "\n"
     ]
    }
   ],
   "source": [
    "# Collecting the input and output scripts of the Genesis block\n",
    "in_script, out_script = exp.collect_messages(raw_block)\n",
    "\n",
    "print(f'\\nInput script:\\n {in_script[0]}\\n\\nOutput script:\\n {out_script[0]}\\n')"
   ]
  },
  {
   "cell_type": "markdown",
   "metadata": {},
   "source": [
    "OK but what are the scripts for? In brief, the input and output scripts are typically used to check if conditions are met to spend the UTXO (Unspent Transaction Outputs). We do not need to dig deeper into the details of the Bitcoin script language here. The important thing is that we identified two parameters that are of reasonable size to contain a secret message. The question is how can we decode it?\n",
    "\n",
    "The etwo scripts in the Genesis coinbase transaction as shown above are in HEX encoding which apperantly is tricky to read for humans. So let's change the encoding to ASCII. In the Chain Explorer package there is a function to do exactly this as shown below on the example of the output script."
   ]
  },
  {
   "cell_type": "code",
   "execution_count": 56,
   "metadata": {},
   "outputs": [
    {
     "name": "stdout",
     "output_type": "stream",
     "text": [
      "\n",
      "This is the decoded output script from the Genesis coinbase transaction:\n",
      "\n",
      "b\"A\\x04g\\x8a\\xfd\\xb0\\xfeUH'\\x19g\\xf1\\xa6q0\\xb7\\x10\\\\\\xd6\\xa8(\\xe09\\t\\xa6yb\\xe0\\xea\\x1fa\\xde\\xb6I\\xf6\\xbc?L\\xef8\\xc4\\xf3U\\x04\\xe5\\x1e\\xc1\\x12\\xde\\\\8M\\xf7\\xba\\x0b\\x8dW\\x8aLp+k\\xf1\\x1d_\\xac\"\n",
      "\n"
     ]
    }
   ],
   "source": [
    "decoded_out_script = exp.decode_hex_message(out_script)\n",
    "\n",
    "print(f'\\nThis is the decoded output script from the Genesis coinbase transaction:\\n\\n{decoded_out_script[0]}\\n')"
   ]
  },
  {
   "cell_type": "markdown",
   "metadata": {},
   "source": [
    "Well... if there is a message in the output script it hides itself pretty well. Let's try the input script."
   ]
  },
  {
   "cell_type": "code",
   "execution_count": 57,
   "metadata": {},
   "outputs": [
    {
     "name": "stdout",
     "output_type": "stream",
     "text": [
      "\n",
      "This is the decoded input script from the Genesis coinbase transaction:\n",
      "\n",
      "b'\\x04\\xff\\xff\\x00\\x1d\\x01\\x04EThe Times 03/Jan/2009 Chancellor on brink of second bailout for banks'\n",
      "\n"
     ]
    }
   ],
   "source": [
    "decoded_in_script = exp.decode_hex_message(in_script)\n",
    "\n",
    "print(f'\\nThis is the decoded input script from the Genesis coinbase transaction:\\n\\n{decoded_in_script[0]}\\n')"
   ]
  },
  {
   "cell_type": "markdown",
   "metadata": {},
   "source": [
    "Now, this looks interesting! The beginning is obviously meaningless but then we see the following in the decoded input script:\n",
    "\n",
    " \n",
    "__The Times 03/Jan/2009 Chancellor on brink of second bailout for banks__\n",
    " \n",
    "That looks like a message. And it refers to the front page of the newspaper Times from January 3, 2009. But wait, isn't January 3, 2009 also the day the Genesis block was mined. Indeed it is and this message links the both together. Below is an image of the Times frontpage from that day. \n",
    "\n",
    "<br>\n",
    "<div>\n",
    "<img src=\"../images/times_cover.png\" width=\"300\"/>\n",
    "</div>\n",
    "<br>\n",
    "\n",
    "Alright, so we found the secret message and its relationship to the Times front cover on the birthday of Bitcoin!\n",
    "\n",
    "## Congrats! You just uncovered the first secret of the Bitcoin blockchain!\n",
    "\n",
    "If you want to get whole thing a bit cleaner you can also remove the first 8 bytes from the input script."
   ]
  },
  {
   "cell_type": "code",
   "execution_count": 58,
   "metadata": {},
   "outputs": [
    {
     "name": "stdout",
     "output_type": "stream",
     "text": [
      "\n",
      "This is the cleaned, decoded input script from the Genesis coinbase transaction:\n",
      "\n",
      "b'The Times 03/Jan/2009 Chancellor on brink of second bailout for banks'\n",
      "\n"
     ]
    }
   ],
   "source": [
    "clean_message = exp.decode_hex_message(in_script[0][16:])\n",
    "\n",
    "print(f'\\nThis is the cleaned, decoded input script from the Genesis coinbase transaction:\\n\\n{clean_message[0]}\\n')"
   ]
  },
  {
   "cell_type": "markdown",
   "metadata": {},
   "source": [
    "# What else can we learn from the Genesis block?\n",
    "\n",
    "We already learned a lot from the Genesis block but there are some additional question we might want to look at. For example we already recognized that the 50 Bitcoins from the coinbase transaction were never spent. Also due to the fact that the Genesis block is the first block in the blockchain and no Bitcoins or parent block existed at the time there could not have been any transaction besides the coinbase transaction. But when did the first transaction happen? Did Satoshi send some Bitcoins to himself? Let's see if we can find the first block that contains a transaction besides the coinbase transaction."
   ]
  },
  {
   "cell_type": "code",
   "execution_count": 59,
   "metadata": {},
   "outputs": [
    {
     "name": "stdout",
     "output_type": "stream",
     "text": [
      "\n",
      "The first transaction happened in block 170\n",
      "\n"
     ]
    }
   ],
   "source": [
    "# This will take a moment since we start at block 0 and wait 1 second before moving on to the next block. \n",
    "# The waiting time is necessary to not get blocked by the  https://www.blockchain.com/explorer API.\n",
    "\n",
    "block = 0\n",
    "raw_block = exp.get_by_block(block)\n",
    "\n",
    "while len(raw_block['tx']) == 1:\n",
    "    # print(f'Checking block {block}') # Activate this if you want to see at which block we are\n",
    "    raw_block = exp.get_by_block(block)\n",
    "    block += 1\n",
    "    \n",
    "    time.sleep(1)\n",
    "\n",
    "print(f'\\nThe first transaction happened in block {block - 1}\\n')"
   ]
  },
  {
   "cell_type": "markdown",
   "metadata": {},
   "source": [
    "OK, we found it! So block 170 contains the first transaction. And indeed this was the first time that Satoshi send Bitcoins to someone else. Who was it? His name was Hal Finney who was the second person to run Bitcoin as he announced in his famous Tweet on January 11, 2009.\n",
    "\n",
    "<br>\n",
    "<div>\n",
    "<img src=\"../images/halfin_running_bitcoin.png\" width=\"800\"/>\n",
    "</div>\n",
    "<br>\n",
    "\n",
    "So let's have a closer look at this block."
   ]
  },
  {
   "cell_type": "code",
   "execution_count": 60,
   "metadata": {},
   "outputs": [
    {
     "name": "stdout",
     "output_type": "stream",
     "text": [
      "hash: 00000000d1145790a8694403d4063f323d499e655c83426834d4ce2f8dd4a2ee\n",
      "ver: 1\n",
      "prev_block: 000000002a22cfee1f2c846adbd12b3e183d4f97683f85dad08a79780a84bd55\n",
      "mrkl_root: 7dac2c5666815c17a3b36427de37bb9d2e2c5ccec3f8633eb91a4205cb4c10ff\n",
      "time: 1231731025\n",
      "bits: 486604799\n",
      "next_block: ['00000000c9ec538cab7f38ef9c67a95742f56ab07b0a37c5be6b02808dbfb4e0']\n",
      "fee: 0\n",
      "nonce: 1889418792\n",
      "n_tx: 2\n",
      "size: 490\n",
      "block_index: 170\n",
      "main_chain: True\n",
      "height: 170\n",
      "weight: 1960\n",
      "\n",
      "Block 170 contains the first Bitcoin transaction and was created 2009-01-12 04:30:25\n",
      "The amount send to the wallet were 10.0 Bitcoins.\n",
      "\n"
     ]
    }
   ],
   "source": [
    "raw_block = exp.get_by_block(170)\n",
    "\n",
    "exp.show_block_info(raw_block)\n",
    "\n",
    "t_day = datetime.fromtimestamp(raw_block['time'])\n",
    "print(f'\\nBlock 170 contains the first Bitcoin transaction and was created {t_day}')\n",
    "\n",
    "value = raw_block['tx'][1]['out'][0]['value'] / 10**8\n",
    "print(f'The amount send to the wallet were {value} Bitcoins.\\n')"
   ]
  },
  {
   "cell_type": "markdown",
   "metadata": {},
   "source": [
    "But wait, something seems off here. Let's have another look at the timeline:\n",
    "\n",
    "Hal Finney starts running Bitcoin on January 11, 2009. \n",
    "One day later on January 12, 2009 he recieves the first Bitcoins from Satoshi. \n",
    "Before we saw that the first block was created on January 3, 2009. \n",
    "So it took 8 days from the Genesis block to the first transaction in block 170.\n",
    "\n",
    "The average block time, the time between two consequtive blocks, in the Bitcoin protocal is on average 10 minutes. So it is sometimes a little less than 10 minutes and sometimes a little more. Let's confirm this before we move on."
   ]
  },
  {
   "cell_type": "code",
   "execution_count": 61,
   "metadata": {},
   "outputs": [
    {
     "name": "stdout",
     "output_type": "stream",
     "text": [
      "\n",
      "The time between block 169 and block 170 was 8.37 minutes\n",
      "\n"
     ]
    }
   ],
   "source": [
    "raw_block_169 = exp.get_by_block(169)\n",
    "raw_block_170 = exp.get_by_block(170)\n",
    "\n",
    "time_between = round((raw_block_170['time'] - raw_block_169['time']) / 60, 2)\n",
    "\n",
    "print(f'\\nThe time between block 169 and block 170 was {time_between} minutes\\n')"
   ]
  },
  {
   "cell_type": "markdown",
   "metadata": {},
   "source": [
    "OK not exactly 10 minutes but in the range of 10 minutes. So if to get from block 0 to block 170 should take around 28 hours, or 1 day and 4 hours. But instead it took 8 days. How can this be?\n",
    "\n",
    "Let's have another look at the beginning of the blockchain."
   ]
  },
  {
   "cell_type": "code",
   "execution_count": 62,
   "metadata": {},
   "outputs": [
    {
     "name": "stdout",
     "output_type": "stream",
     "text": [
      "\n",
      "The time between block 0 and block 1 was 5.360648148148148 days\n",
      "\n",
      "The Genesis block was created         2009-01-03 19:15:05\n",
      "while the following block was created 2009-01-09 03:54:25\n"
     ]
    }
   ],
   "source": [
    "raw_block_0 = exp.get_by_block(0)\n",
    "raw_block_1 = exp.get_by_block(1)\n",
    "\n",
    "time_between = (raw_block_1['time'] - raw_block_0['time']) / 3600 / 24\n",
    "\n",
    "date_0 = datetime.fromtimestamp(raw_block_0['time'])\n",
    "date_1 = datetime.fromtimestamp(raw_block_1['time'])\n",
    "\n",
    "print(f'\\nThe time between block 0 and block 1 was {time_between} days\\n\\n\\\n",
    "The Genesis block was created         {date_0}\\nwhile the following block was created {date_1}')"
   ]
  },
  {
   "cell_type": "markdown",
   "metadata": {},
   "source": [
    "This is odd but apperently it is also what happened. After Satoshi created the Genesis block he did not create another block for six days. This explains the offset that we see between the Genesis block and the time Hal Finney recieved the first Bitcoin transaction in block 170.\n",
    "\n",
    "Why Satoshi waited for six days before he created the next block is not known. Some say it is a biblical reference since it took God six days to create the earth. Most likely we will never know the real reason.\n",
    "\n",
    "We can further check the timeline by collecting all the 250 first blocks."
   ]
  },
  {
   "cell_type": "code",
   "execution_count": 63,
   "metadata": {},
   "outputs": [],
   "source": [
    "# This will take a moment since we start at block 0 and wait 1 second before moving on to the next block. \n",
    "# The waiting time is necessary to not get blocked by the  https://www.blockchain.com/explorer API.\n",
    "\n",
    "date = []\n",
    "\n",
    "for block in range(251):\n",
    "    raw_block = exp.get_by_block(block)\n",
    "    date.append(raw_block['time'])    \n",
    "    time.sleep(1)"
   ]
  },
  {
   "cell_type": "markdown",
   "metadata": {},
   "source": [
    "So now that we collected all the block times let us check the median block time. As noted before it should be around 10 minutes"
   ]
  },
  {
   "cell_type": "code",
   "execution_count": 64,
   "metadata": {},
   "outputs": [
    {
     "name": "stdout",
     "output_type": "stream",
     "text": [
      "The median block time during the first 250 blocks was 11.07 minutes.\n"
     ]
    }
   ],
   "source": [
    "block_time = np.diff(date) / 60\n",
    "n_blocks = len(block_time)\n",
    "median_time = round(np.median(block_time), 2)\n",
    "\n",
    "print(f'The median block time during the first {n_blocks} blocks was {median_time} minutes.')"
   ]
  },
  {
   "cell_type": "markdown",
   "metadata": {},
   "source": [
    "So the median time in the first blocks is more than the expected 10 minutes but not too far away. To see where we have the biggest deviations let's just plot the block times vs. the block number."
   ]
  },
  {
   "cell_type": "code",
   "execution_count": 65,
   "metadata": {},
   "outputs": [
    {
     "data": {
      "image/png": "[encoded data removed]",
      "text/plain": [
       "<Figure size 1296x360 with 1 Axes>"
      ]
     },
     "metadata": {
      "needs_background": "light"
     },
     "output_type": "display_data"
    }
   ],
   "source": [
    "fig, ax = plt.subplots(1, 1, figsize=[18, 5])\n",
    "\n",
    "ax.plot(block_time)\n",
    "ax.set_title(f'Block times from the Genesis block unti block {n_blocks}', fontsize=25)\n",
    "ax.set_xlabel('block time [min]', fontsize=20)\n",
    "ax.set_ylabel('block number', fontsize=20)\n",
    "\n",
    "plt.show()"
   ]
  },
  {
   "cell_type": "markdown",
   "metadata": {},
   "source": [
    "Looks like there were some occasional hickups in the beginning of the protocoll but after around block 180 things stabelized."
   ]
  },
  {
   "cell_type": "code",
   "execution_count": null,
   "metadata": {},
   "outputs": [],
   "source": []
  }
 ],
 "metadata": {
  "kernelspec": {
   "display_name": "Python 3",
   "language": "python",
   "name": "python3"
  },
  "language_info": {
   "codemirror_mode": {
    "name": "ipython",
    "version": 3
   },
   "file_extension": ".py",
   "mimetype": "text/x-python",
   "name": "python",
   "nbconvert_exporter": "python",
   "pygments_lexer": "ipython3",
   "version": "3.8.8"
  }
 },
 "nbformat": 4,
 "nbformat_minor": 4
}
