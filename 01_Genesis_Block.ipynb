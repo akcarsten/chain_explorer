{
 "cells": [
  {
   "cell_type": "markdown",
   "metadata": {},
   "source": [
    "Quick introduction to the Blockchain and the Genesis block"
   ]
  },
  {
   "cell_type": "code",
   "execution_count": null,
   "metadata": {},
   "outputs": [],
   "source": []
  },
  {
   "cell_type": "code",
   "execution_count": 32,
   "metadata": {},
   "outputs": [],
   "source": [
    "import sys\n",
    "import time\n",
    "import explorer as exp\n",
    "\n",
    "sys.path.insert(1, \"./chainexplorer/\")"
   ]
  },
  {
   "cell_type": "markdown",
   "metadata": {},
   "source": []
  },
  {
   "cell_type": "markdown",
   "metadata": {},
   "source": [
    "Few words on the `blockchain.info` API"
   ]
  },
  {
   "cell_type": "code",
   "execution_count": 33,
   "metadata": {},
   "outputs": [],
   "source": [
    "# Download the Genesis block\n",
    "raw_block = exp.get_by_block(0)"
   ]
  },
  {
   "cell_type": "markdown",
   "metadata": {},
   "source": [
    "Detailed look on the block structure"
   ]
  },
  {
   "cell_type": "markdown",
   "metadata": {},
   "source": [
    "Convenience function to show the inputs"
   ]
  },
  {
   "cell_type": "code",
   "execution_count": 34,
   "metadata": {},
   "outputs": [
    {
     "name": "stdout",
     "output_type": "stream",
     "text": [
      "hash: 000000000019d6689c085ae165831e934ff763ae46a2a6c172b3f1b60a8ce26f\n",
      "ver: 1\n",
      "prev_block: 0000000000000000000000000000000000000000000000000000000000000000\n",
      "mrkl_root: 4a5e1e4baab89f3a32518a88c31bc87f618f76673e2cc77ab2127b7afdeda33b\n",
      "time: 1231006505\n",
      "bits: 486604799\n",
      "next_block: ['00000000839a8e6886ab5951d76f411475428afc90947ee320161bbf18eb6048']\n",
      "fee: 0\n",
      "nonce: 2083236893\n",
      "n_tx: 1\n",
      "size: 285\n",
      "block_index: 0\n",
      "main_chain: True\n",
      "height: 0\n",
      "weight: 1140\n"
     ]
    }
   ],
   "source": [
    "# Have a look at the Genesis information\n",
    "exp.show_block_info(raw_block)"
   ]
  },
  {
   "cell_type": "code",
   "execution_count": 40,
   "metadata": {},
   "outputs": [
    {
     "name": "stdout",
     "output_type": "stream",
     "text": [
      "No match between block 0 and -1\n",
      "Block hashes match between block 1 and block 0:\n",
      "Hash from block 0:    000000000019d6689c085ae165831e934ff763ae46a2a6c172b3f1b60a8ce26f\n",
      "Reference in block 1: 000000000019d6689c085ae165831e934ff763ae46a2a6c172b3f1b60a8ce26f\n",
      "\n",
      "Block hashes match between block 2 and block 1:\n",
      "Hash from block 1:    00000000839a8e6886ab5951d76f411475428afc90947ee320161bbf18eb6048\n",
      "Reference in block 2: 00000000839a8e6886ab5951d76f411475428afc90947ee320161bbf18eb6048\n",
      "\n",
      "Block hashes match between block 3 and block 2:\n",
      "Hash from block 2:    000000006a625f06636b8bb6ac7b960a8d03705d1ace08b1a19da3fdcc99ddbd\n",
      "Reference in block 3: 000000006a625f06636b8bb6ac7b960a8d03705d1ace08b1a19da3fdcc99ddbd\n",
      "\n",
      "Block hashes match between block 4 and block 3:\n",
      "Hash from block 3:    0000000082b5015589a3fdf2d4baff403e6f0be035a5d9742c1cae6295464449\n",
      "Reference in block 4: 0000000082b5015589a3fdf2d4baff403e6f0be035a5d9742c1cae6295464449\n",
      "\n",
      "Block hashes match between block 5 and block 4:\n",
      "Hash from block 4:    000000004ebadb55ee9096c9a2f8880e09da59c0d68b1c228da88e48844a1485\n",
      "Reference in block 5: 000000004ebadb55ee9096c9a2f8880e09da59c0d68b1c228da88e48844a1485\n",
      "\n",
      "Block hashes match between block 6 and block 5:\n",
      "Hash from block 5:    000000009b7262315dbf071787ad3656097b892abffd1f95a1a022f896f533fc\n",
      "Reference in block 6: 000000009b7262315dbf071787ad3656097b892abffd1f95a1a022f896f533fc\n",
      "\n",
      "Block hashes match between block 7 and block 6:\n",
      "Hash from block 6:    000000003031a0e73735690c5a1ff2a4be82553b2a12b776fbd3a215dc8f778d\n",
      "Reference in block 7: 000000003031a0e73735690c5a1ff2a4be82553b2a12b776fbd3a215dc8f778d\n",
      "\n",
      "Block hashes match between block 8 and block 7:\n",
      "Hash from block 7:    0000000071966c2b1d065fd446b1e485b2c9d9594acd2007ccbd5441cfc89444\n",
      "Reference in block 8: 0000000071966c2b1d065fd446b1e485b2c9d9594acd2007ccbd5441cfc89444\n",
      "\n",
      "Block hashes match between block 9 and block 8:\n",
      "Hash from block 8:    00000000408c48f847aa786c2268fc3e6ec2af68e8468a34a28c61b7f1de0dc6\n",
      "Reference in block 9: 00000000408c48f847aa786c2268fc3e6ec2af68e8468a34a28c61b7f1de0dc6\n",
      "\n"
     ]
    }
   ],
   "source": [
    "prev_hash = []\n",
    "for block in range(10):\n",
    "    raw_block = exp.get_by_block(block)\n",
    "\n",
    "    if raw_block['prev_block'] == prev_hash:\n",
    "        print(f'Block hashes match between block {block} and block {block - 1}:\\n'\n",
    "              f'Hash from block {block - 1}:    {prev_hash}\\n'\n",
    "              f'Reference in block {block}: {raw_block[\"prev_block\"]}\\n')\n",
    "    else:\n",
    "        print(f'No match between block {block} and {block - 1}')\n",
    "\n",
    "    prev_hash = raw_block['hash']\n",
    "    time.sleep(1)"
   ]
  },
  {
   "cell_type": "markdown",
   "metadata": {},
   "source": [
    "How to decode the messages"
   ]
  },
  {
   "cell_type": "code",
   "execution_count": 8,
   "metadata": {},
   "outputs": [
    {
     "ename": "SyntaxError",
     "evalue": "invalid syntax (<ipython-input-8-6297686c1bcf>, line 1)",
     "output_type": "error",
     "traceback": [
      "\u001b[1;36m  File \u001b[1;32m\"<ipython-input-8-6297686c1bcf>\"\u001b[1;36m, line \u001b[1;32m1\u001b[0m\n\u001b[1;33m    CODE EXAMPLE\u001b[0m\n\u001b[1;37m         ^\u001b[0m\n\u001b[1;31mSyntaxError\u001b[0m\u001b[1;31m:\u001b[0m invalid syntax\n"
     ]
    }
   ],
   "source": [
    "CODE EXAMPLE"
   ]
  },
  {
   "cell_type": "markdown",
   "metadata": {},
   "source": [
    "Convenience function"
   ]
  },
  {
   "cell_type": "code",
   "execution_count": 9,
   "metadata": {},
   "outputs": [],
   "source": [
    "# The hidden information is in the input message\n",
    "in_msg, out_msg = exp.collect_messages(raw_block)"
   ]
  },
  {
   "cell_type": "markdown",
   "metadata": {},
   "source": [
    "Let's decode the full message"
   ]
  },
  {
   "cell_type": "code",
   "execution_count": 10,
   "metadata": {},
   "outputs": [
    {
     "name": "stdout",
     "output_type": "stream",
     "text": [
      "[b'\\x04\\xff\\xff\\x00\\x1d\\x01\\x04EThe Times 03/Jan/2009 Chancellor on brink of second bailout for banks']\n"
     ]
    }
   ],
   "source": [
    "# The input message needs to be decoded from hexadecimal to ASCII to be readable\n",
    "decoded_msg = exp.decode_hex_message(in_msg)\n",
    "\n",
    "# Let's look at the full decoded message\n",
    "print(decoded_msg)"
   ]
  },
  {
   "cell_type": "markdown",
   "metadata": {},
   "source": [
    "Why we remove the first 8 bytes"
   ]
  },
  {
   "cell_type": "code",
   "execution_count": 11,
   "metadata": {},
   "outputs": [
    {
     "name": "stdout",
     "output_type": "stream",
     "text": [
      "b'The Times 03/Jan/2009 Chancellor on brink of second bailout for banks'\n"
     ]
    }
   ],
   "source": [
    "print(decoded_msg[0][8:])"
   ]
  },
  {
   "cell_type": "markdown",
   "metadata": {},
   "source": [
    "Wrapping up"
   ]
  },
  {
   "cell_type": "code",
   "execution_count": null,
   "metadata": {},
   "outputs": [],
   "source": []
  },
  {
   "cell_type": "code",
   "execution_count": null,
   "metadata": {},
   "outputs": [],
   "source": []
  },
  {
   "cell_type": "code",
   "execution_count": null,
   "metadata": {},
   "outputs": [],
   "source": []
  },
  {
   "cell_type": "markdown",
   "metadata": {},
   "source": [
    "# General stuff about the blockchain"
   ]
  },
  {
   "cell_type": "code",
   "execution_count": 12,
   "metadata": {},
   "outputs": [
    {
     "name": "stdout",
     "output_type": "stream",
     "text": [
      "The hash of the previous block for the second block should match the hash of the genesis block:\n",
      "\n",
      " Genesis block hash:\n",
      "000000000019d6689c085ae165831e934ff763ae46a2a6c172b3f1b60a8ce26f\n",
      "\n",
      " Previous block hash for the second block:\n",
      "000000000019d6689c085ae165831e934ff763ae46a2a6c172b3f1b60a8ce26f\n"
     ]
    }
   ],
   "source": [
    "genesis_block = exp.get_by_block(0)\n",
    "second_block = exp.get_by_block(1)\n",
    "\n",
    "print(\n",
    "'The hash of the previous block for the second block should match the hash of the genesis block:\\n\\n \\\n",
    "Genesis block hash:\\n{}\\n\\n \\\n",
    "Previous block hash for the second block:\\n{}' \\\n",
    ".format(genesis_block['hash'], second_block['prev_block']))"
   ]
  },
  {
   "cell_type": "code",
   "execution_count": 61,
   "metadata": {},
   "outputs": [
    {
     "name": "stdout",
     "output_type": "stream",
     "text": [
      "The Genesis block should not have a previous block hash\n",
      "\n",
      "Previous block hash for the Genesis block:\n",
      "0000000000000000000000000000000000000000000000000000000000000000\n"
     ]
    }
   ],
   "source": [
    "print('The Genesis block should not have a previous block hash\\n\\n\\\n",
    "Previous block hash for the Genesis block:\\n{}'.format(genesis_block['prev_block']))"
   ]
  },
  {
   "cell_type": "code",
   "execution_count": 64,
   "metadata": {},
   "outputs": [
    {
     "data": {
      "text/plain": [
       "285"
      ]
     },
     "execution_count": 64,
     "metadata": {},
     "output_type": "execute_result"
    }
   ],
   "source": [
    "genesis_block['size']"
   ]
  },
  {
   "cell_type": "code",
   "execution_count": 84,
   "metadata": {},
   "outputs": [
    {
     "name": "stdout",
     "output_type": "stream",
     "text": [
      "28\n"
     ]
    }
   ],
   "source": []
  },
  {
   "cell_type": "code",
   "execution_count": 88,
   "metadata": {},
   "outputs": [],
   "source": [
    "latest_block = exp.get_by_block(exp.get_latest_block()['height'])"
   ]
  },
  {
   "cell_type": "code",
   "execution_count": 89,
   "metadata": {},
   "outputs": [
    {
     "data": {
      "text/plain": [
       "1576521"
      ]
     },
     "execution_count": 89,
     "metadata": {},
     "output_type": "execute_result"
    }
   ],
   "source": [
    "latest_block['size']"
   ]
  },
  {
   "cell_type": "code",
   "execution_count": 91,
   "metadata": {},
   "outputs": [
    {
     "data": {
      "text/plain": [
       "28"
      ]
     },
     "execution_count": 91,
     "metadata": {},
     "output_type": "execute_result"
    }
   ],
   "source": [
    "import sys\n",
    "sys.getsizeof(latest_block['size'])"
   ]
  },
  {
   "cell_type": "code",
   "execution_count": 100,
   "metadata": {},
   "outputs": [
    {
     "data": {
      "text/plain": [
       "3.5"
      ]
     },
     "execution_count": 100,
     "metadata": {},
     "output_type": "execute_result"
    }
   ],
   "source": [
    "sys.getsizeof(latest_block['ver']) / 8"
   ]
  },
  {
   "cell_type": "code",
   "execution_count": 101,
   "metadata": {},
   "outputs": [
    {
     "data": {
      "text/plain": [
       "14.125"
      ]
     },
     "execution_count": 101,
     "metadata": {},
     "output_type": "execute_result"
    }
   ],
   "source": [
    "sys.getsizeof(latest_block['prev_block']) / 8"
   ]
  },
  {
   "cell_type": "code",
   "execution_count": 102,
   "metadata": {},
   "outputs": [
    {
     "data": {
      "text/plain": [
       "'00000000000000000005715e141613e6f7e26e92acd99bd987f0a68a35fbc44b'"
      ]
     },
     "execution_count": 102,
     "metadata": {},
     "output_type": "execute_result"
    }
   ],
   "source": [
    "latest_block['prev_block']"
   ]
  },
  {
   "cell_type": "code",
   "execution_count": null,
   "metadata": {},
   "outputs": [],
   "source": []
  },
  {
   "cell_type": "code",
   "execution_count": 94,
   "metadata": {},
   "outputs": [
    {
     "data": {
      "text/plain": [
       "dict_keys(['hash', 'ver', 'prev_block', 'mrkl_root', 'time', 'bits', 'next_block', 'fee', 'nonce', 'n_tx', 'size', 'block_index', 'main_chain', 'height', 'weight', 'tx'])"
      ]
     },
     "execution_count": 94,
     "metadata": {},
     "output_type": "execute_result"
    }
   ],
   "source": [
    "latest_block.keys()"
   ]
  },
  {
   "cell_type": "code",
   "execution_count": null,
   "metadata": {},
   "outputs": [],
   "source": []
  }
 ],
 "metadata": {
  "kernelspec": {
   "display_name": "Python 3",
   "language": "python",
   "name": "python3"
  },
  "language_info": {
   "codemirror_mode": {
    "name": "ipython",
    "version": 3
   },
   "file_extension": ".py",
   "mimetype": "text/x-python",
   "name": "python",
   "nbconvert_exporter": "python",
   "pygments_lexer": "ipython3",
   "version": "3.8.5"
  }
 },
 "nbformat": 4,
 "nbformat_minor": 4
}
